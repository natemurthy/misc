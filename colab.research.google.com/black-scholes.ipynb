{
  "nbformat": 4,
  "nbformat_minor": 0,
  "metadata": {
    "colab": {
      "name": "black-scholes.ipynb",
      "provenance": [],
      "authorship_tag": "ABX9TyOTo5w9oamej337yU97DXN+",
      "include_colab_link": true
    },
    "kernelspec": {
      "name": "python3",
      "display_name": "Python 3"
    }
  },
  "cells": [
    {
      "cell_type": "markdown",
      "metadata": {
        "id": "view-in-github",
        "colab_type": "text"
      },
      "source": [
        "<a href=\"https://colab.research.google.com/github/natemurthy/misc/blob/master/colab.research.google.com/black-scholes.ipynb\" target=\"_parent\"><img src=\"https://colab.research.google.com/assets/colab-badge.svg\" alt=\"Open In Colab\"/></a>"
      ]
    },
    {
      "cell_type": "code",
      "metadata": {
        "id": "2WdnqCFTe0M0",
        "colab_type": "code",
        "colab": {}
      },
      "source": [
        "\"\"\"\n",
        "Black-Scholes formula implemented in python\n",
        "https://aaronschlegel.me/black-scholes-formula-python.html\n",
        "\"\"\"\n",
        "\n",
        "import numpy as np\n",
        "import scipy.stats as si\n",
        "\n",
        "\"\"\"\n",
        "Definition of function inputs for estimating options prices\n",
        "\n",
        "S: spot price\n",
        "K: strike price\n",
        "t: time to maturity in days\n",
        "r: interest rate\n",
        "sigma: volatility of underlying asset\n",
        "\n",
        "\"\"\"\n",
        "\n",
        "def put_price(S, K, t, r, sigma):    \n",
        "    T = t/365.0\n",
        "    d1 = (np.log(S / K) + (r + 0.5 * sigma ** 2) * T) / (sigma * np.sqrt(T))\n",
        "    d2 = (np.log(S / K) + (r - 0.5 * sigma ** 2) * T) / (sigma * np.sqrt(T))\n",
        "    price = (K * np.exp(-r * T) * si.norm.cdf(-d2, 0.0, 1.0) - S * si.norm.cdf(-d1, 0.0, 1.0))\n",
        "    return price\n",
        "\n",
        "def call_price(S, K, t, r, sigma):\n",
        "    T = t/365  \n",
        "    d1 = (np.log(S / K) + (r + 0.5 * sigma ** 2) * T) / (sigma * np.sqrt(T))\n",
        "    d2 = (np.log(S / K) + (r - 0.5 * sigma ** 2) * T) / (sigma * np.sqrt(T))\n",
        "    price = (S * si.norm.cdf(d1, 0.0, 1.0) - K * np.exp(-r * T) * si.norm.cdf(d2, 0.0, 1.0))\n",
        "    return price"
      ],
      "execution_count": 0,
      "outputs": []
    },
    {
      "cell_type": "code",
      "metadata": {
        "id": "qGT7mr_Oe9Y6",
        "colab_type": "code",
        "colab": {
          "base_uri": "https://localhost:8080/",
          "height": 51
        },
        "outputId": "147393bb-bf4c-402b-d2ee-b5f7bcbb628b"
      },
      "source": [
        "\"\"\"\n",
        "TBD: integration with Yahoo Finance API\n",
        "https://rapidapi.com/blog/how-to-use-the-yahoo-finance-api\n",
        "\n",
        "Risk free return rate for 1 year maturity:\n",
        "https://www.treasury.gov/resource-center/data-chart-center/interest-rates/pages/textview.aspx\n",
        "\"\"\"\n",
        "vx = 39/100\n",
        "one_year_rate = 0.15/100\n",
        "strike = 274\n",
        "\n",
        "current = 277.5\n",
        "print(put_price(current, strike, 2, one_year_rate, vx))\n",
        "\n",
        "target = 276\n",
        "print(put_price(target, strike, 1, one_year_rate, vx))"
      ],
      "execution_count": 3,
      "outputs": [
        {
          "output_type": "stream",
          "text": [
            "1.727046468318619\n",
            "1.3797411892704616\n"
          ],
          "name": "stdout"
        }
      ]
    },
    {
      "cell_type": "code",
      "metadata": {
        "id": "1Sk3c-ZofC7E",
        "colab_type": "code",
        "colab": {}
      },
      "source": [
        ""
      ],
      "execution_count": 0,
      "outputs": []
    }
  ]
}